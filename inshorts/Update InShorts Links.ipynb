{
 "cells": [
  {
   "cell_type": "code",
   "execution_count": 1,
   "metadata": {
    "collapsed": true
   },
   "outputs": [],
   "source": [
    "import requests\n",
    "import pandas as pd\n",
    "from lxml import html\n",
    "from bs4 import BeautifulSoup\n",
    "import datetime"
   ]
  },
  {
   "cell_type": "code",
   "execution_count": 2,
   "metadata": {},
   "outputs": [],
   "source": [
    "proxy = {\n",
    "            \"http\":\"http://45.64.11.1:8080\",\n",
    "            \"http\":\"http://125.62.213.161:83\",\n",
    "            \"http\":\"http://103.218.101.113:8080\",\n",
    "            \"http\":\"http://103.253.211.182:8080\",\n",
    "            \"http\":\"http://103.46.233.21:83\",\n",
    "            \"http\":\"http://103.46.233.27:82\",\n",
    "            \"http\":\"http://175.101.80.145:8080\",\n",
    "            \"http\":\"http://175.101.80.140:8080\",\n",
    "            \"http\":\"http://123.108.200.118:83\",\n",
    "            \"http\":\"http://103.26.56.30:8080\",\n",
    "            \"http\":\"http://103.226.3.233:8080\",\n",
    "            \"http\":\"http://103.41.99.130:8080\",\n",
    "            \"http\":\"http://103.224.48.17:8080\",\n",
    "            \"http\":\"http://103.209.64.19:6666\",\n",
    "            \"http\":\"http://103.14.235.26:8080\",\n",
    "        }"
   ]
  },
  {
   "cell_type": "code",
   "execution_count": 3,
   "metadata": {
    "collapsed": true
   },
   "outputs": [],
   "source": [
    "url = \"https://inshorts.com/sitemap-en.xml\"\n",
    "page = requests.get(url,proxies=proxy)\n",
    "tree = html.fromstring(page.content)"
   ]
  },
  {
   "cell_type": "code",
   "execution_count": 4,
   "metadata": {
    "collapsed": true
   },
   "outputs": [],
   "source": [
    "count = len(tree.xpath(\"//url\"))\n",
    "raw_urls = []"
   ]
  },
  {
   "cell_type": "code",
   "execution_count": 5,
   "metadata": {},
   "outputs": [
    {
     "data": {
      "text/plain": [
       "'https://inshorts.com/en/news/remember-every-wicket-the-way-it-happened-kumble-on-10wicket-haul-1549562256940'"
      ]
     },
     "execution_count": 5,
     "metadata": {},
     "output_type": "execute_result"
    }
   ],
   "source": [
    "str(tree.xpath(\"//url[2]/loc/text()\")).replace(\"['\",\"\").replace(\"']\",\"\")"
   ]
  },
  {
   "cell_type": "code",
   "execution_count": 6,
   "metadata": {
    "collapsed": true
   },
   "outputs": [],
   "source": [
    "for i in range(1,count+1):\n",
    "    raw_urls.append(str(tree.xpath(\"//url[\"+str(i)+\"]/loc/text()\")).replace(\"['\",\"\").replace(\"']\",\"\"))"
   ]
  },
  {
   "cell_type": "code",
   "execution_count": 7,
   "metadata": {
    "collapsed": true
   },
   "outputs": [],
   "source": [
    "k = []\n",
    "v = []\n",
    "for i in range(1,count+1):\n",
    "    #l = str(tree.xpath(\"//url[\"+i+\"]/loc/text()\")).replace(\"['\",\"\").replace(\"']\",\"\").count(\"-\")\n",
    "    #str(tree.xpath(\"//url[2]/loc/text()\")).replace(\"['\",\"\").replace(\"']\",\"\").split(\"-\")[:l]\n",
    "    k.append(int(str(tree.xpath(\"//url[\"+str(i)+\"]/loc/text()\")).replace(\"['\",\"\").replace(\"']\",\"\").split(\"-\")[-1]))\n",
    "    v.append(str(tree.xpath(\"//url[\"+str(i)+\"]/loc/text()\")).replace(\"['\",\"\").replace(\"']\",\"\"))"
   ]
  },
  {
   "cell_type": "code",
   "execution_count": 8,
   "metadata": {
    "collapsed": true
   },
   "outputs": [],
   "source": [
    "dict_url = {k[i]:v[i] for i in range(count)}"
   ]
  },
  {
   "cell_type": "code",
   "execution_count": 9,
   "metadata": {
    "collapsed": true
   },
   "outputs": [],
   "source": [
    "#dict_url_pandas = pd.DataFrame.from_dict(dict_url, orient='index')\n",
    "dict_url_pandas = pd.DataFrame(list(dict_url.items()), columns=['news_id','news_url'])"
   ]
  },
  {
   "cell_type": "code",
   "execution_count": 10,
   "metadata": {},
   "outputs": [
    {
     "data": {
      "text/html": [
       "<div>\n",
       "<style scoped>\n",
       "    .dataframe tbody tr th:only-of-type {\n",
       "        vertical-align: middle;\n",
       "    }\n",
       "\n",
       "    .dataframe tbody tr th {\n",
       "        vertical-align: top;\n",
       "    }\n",
       "\n",
       "    .dataframe thead th {\n",
       "        text-align: right;\n",
       "    }\n",
       "</style>\n",
       "<table border=\"1\" class=\"dataframe\">\n",
       "  <thead>\n",
       "    <tr style=\"text-align: right;\">\n",
       "      <th></th>\n",
       "      <th>news_id</th>\n",
       "      <th>news_url</th>\n",
       "    </tr>\n",
       "  </thead>\n",
       "  <tbody>\n",
       "    <tr>\n",
       "      <th>0</th>\n",
       "      <td>1549556442703</td>\n",
       "      <td>https://inshorts.com/en/news/congmukt-bharat-n...</td>\n",
       "    </tr>\n",
       "    <tr>\n",
       "      <th>1</th>\n",
       "      <td>1549562256940</td>\n",
       "      <td>https://inshorts.com/en/news/remember-every-wi...</td>\n",
       "    </tr>\n",
       "    <tr>\n",
       "      <th>2</th>\n",
       "      <td>1549469415158</td>\n",
       "      <td>https://inshorts.com/en/news/us-man-dies-days-...</td>\n",
       "    </tr>\n",
       "    <tr>\n",
       "      <th>3</th>\n",
       "      <td>1549471651871</td>\n",
       "      <td>https://inshorts.com/en/news/krunal-pandya-acc...</td>\n",
       "    </tr>\n",
       "    <tr>\n",
       "      <th>4</th>\n",
       "      <td>1549529830316</td>\n",
       "      <td>https://inshorts.com/en/news/7-convicted-for-m...</td>\n",
       "    </tr>\n",
       "  </tbody>\n",
       "</table>\n",
       "</div>"
      ],
      "text/plain": [
       "         news_id                                           news_url\n",
       "0  1549556442703  https://inshorts.com/en/news/congmukt-bharat-n...\n",
       "1  1549562256940  https://inshorts.com/en/news/remember-every-wi...\n",
       "2  1549469415158  https://inshorts.com/en/news/us-man-dies-days-...\n",
       "3  1549471651871  https://inshorts.com/en/news/krunal-pandya-acc...\n",
       "4  1549529830316  https://inshorts.com/en/news/7-convicted-for-m..."
      ]
     },
     "execution_count": 10,
     "metadata": {},
     "output_type": "execute_result"
    }
   ],
   "source": [
    "dict_url_pandas.head()"
   ]
  },
  {
   "cell_type": "code",
   "execution_count": 11,
   "metadata": {},
   "outputs": [],
   "source": [
    "temp = pd.read_csv('inshorts_url.csv')\n",
    "news_url_set = set(temp['news_url'])"
   ]
  },
  {
   "cell_type": "code",
   "execution_count": 12,
   "metadata": {},
   "outputs": [
    {
     "data": {
      "text/html": [
       "<div>\n",
       "<style scoped>\n",
       "    .dataframe tbody tr th:only-of-type {\n",
       "        vertical-align: middle;\n",
       "    }\n",
       "\n",
       "    .dataframe tbody tr th {\n",
       "        vertical-align: top;\n",
       "    }\n",
       "\n",
       "    .dataframe thead th {\n",
       "        text-align: right;\n",
       "    }\n",
       "</style>\n",
       "<table border=\"1\" class=\"dataframe\">\n",
       "  <thead>\n",
       "    <tr style=\"text-align: right;\">\n",
       "      <th></th>\n",
       "      <th>news_url</th>\n",
       "    </tr>\n",
       "  </thead>\n",
       "  <tbody>\n",
       "    <tr>\n",
       "      <th>0</th>\n",
       "      <td>https://inshorts.com/en/news/man-falls-in-truc...</td>\n",
       "    </tr>\n",
       "    <tr>\n",
       "      <th>1</th>\n",
       "      <td>https://inshorts.com/en/news/mcgregor-fined-₹3...</td>\n",
       "    </tr>\n",
       "    <tr>\n",
       "      <th>2</th>\n",
       "      <td>https://inshorts.com/en/news/dont-politicise-v...</td>\n",
       "    </tr>\n",
       "    <tr>\n",
       "      <th>3</th>\n",
       "      <td>https://inshorts.com/en/news/therell-be-anarch...</td>\n",
       "    </tr>\n",
       "    <tr>\n",
       "      <th>4</th>\n",
       "      <td>https://inshorts.com/en/news/36yrold-woman-dye...</td>\n",
       "    </tr>\n",
       "  </tbody>\n",
       "</table>\n",
       "</div>"
      ],
      "text/plain": [
       "                                            news_url\n",
       "0  https://inshorts.com/en/news/man-falls-in-truc...\n",
       "1  https://inshorts.com/en/news/mcgregor-fined-₹3...\n",
       "2  https://inshorts.com/en/news/dont-politicise-v...\n",
       "3  https://inshorts.com/en/news/therell-be-anarch...\n",
       "4  https://inshorts.com/en/news/36yrold-woman-dye..."
      ]
     },
     "execution_count": 12,
     "metadata": {},
     "output_type": "execute_result"
    }
   ],
   "source": [
    "temp.head()"
   ]
  },
  {
   "cell_type": "code",
   "execution_count": 13,
   "metadata": {},
   "outputs": [],
   "source": [
    "dict_url_pandas_set = set(dict_url_pandas['news_url'])"
   ]
  },
  {
   "cell_type": "code",
   "execution_count": 14,
   "metadata": {},
   "outputs": [],
   "source": [
    "pd.DataFrame(list((dict_url_pandas_set | news_url_set)), columns=['news_url']).to_csv('inshorts_url.csv', index=False)"
   ]
  },
  {
   "cell_type": "code",
   "execution_count": 15,
   "metadata": {},
   "outputs": [],
   "source": [
    "if len(dict_url_pandas_set - news_url_set) > 0:\n",
    "    pd.DataFrame(list((dict_url_pandas_set - news_url_set)), columns=['news_url']).to_csv('inshorts_new_url.csv', index=False)"
   ]
  },
  {
   "cell_type": "code",
   "execution_count": 16,
   "metadata": {},
   "outputs": [
    {
     "data": {
      "text/plain": [
       "'https://inshorts.com/en/news/kangana-made-fake-promises-to-cast-manikarnika-actress-mishti-1548860150066'"
      ]
     },
     "execution_count": 16,
     "metadata": {},
     "output_type": "execute_result"
    }
   ],
   "source": [
    "temp.news_url[2001]"
   ]
  },
  {
   "cell_type": "code",
   "execution_count": 17,
   "metadata": {},
   "outputs": [
    {
     "data": {
      "text/plain": [
       "4265"
      ]
     },
     "execution_count": 17,
     "metadata": {},
     "output_type": "execute_result"
    }
   ],
   "source": [
    "temp = pd.read_csv('inshorts_url.csv')\n",
    "temp.size"
   ]
  },
  {
   "cell_type": "code",
   "execution_count": null,
   "metadata": {},
   "outputs": [],
   "source": []
  }
 ],
 "metadata": {
  "kernelspec": {
   "display_name": "Python 3",
   "language": "python",
   "name": "python3"
  },
  "language_info": {
   "codemirror_mode": {
    "name": "ipython",
    "version": 3
   },
   "file_extension": ".py",
   "mimetype": "text/x-python",
   "name": "python",
   "nbconvert_exporter": "python",
   "pygments_lexer": "ipython3",
   "version": "3.7.1"
  }
 },
 "nbformat": 4,
 "nbformat_minor": 2
}
