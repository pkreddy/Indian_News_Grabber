{
 "cells": [
  {
   "cell_type": "code",
   "execution_count": 217,
   "metadata": {
    "collapsed": true
   },
   "outputs": [],
   "source": [
    "import requests\n",
    "import pandas as pd\n",
    "from lxml import html\n",
    "from bs4 import BeautifulSoup\n",
    "import datetime"
   ]
  },
  {
   "cell_type": "code",
   "execution_count": 218,
   "metadata": {
    "collapsed": true
   },
   "outputs": [],
   "source": [
    "url = \"https://inshorts.com/sitemap-en.xml\"\n",
    "data = requests.get(url)\n",
    "page = requests.get(url)\n",
    "tree = html.fromstring(page.content)"
   ]
  },
  {
   "cell_type": "code",
   "execution_count": 219,
   "metadata": {
    "collapsed": true
   },
   "outputs": [],
   "source": [
    "count = len(tree.xpath(\"//url\"))\n",
    "raw_urls = []"
   ]
  },
  {
   "cell_type": "code",
   "execution_count": 220,
   "metadata": {},
   "outputs": [
    {
     "data": {
      "text/plain": [
       "'https://inshorts.com/en/news/pmled-panel-may-meet-on-january-24-to-select-new-cbi-chief-1547648052932'"
      ]
     },
     "execution_count": 220,
     "metadata": {},
     "output_type": "execute_result"
    }
   ],
   "source": [
    "str(tree.xpath(\"//url[2]/loc/text()\")).replace(\"['\",\"\").replace(\"']\",\"\")"
   ]
  },
  {
   "cell_type": "code",
   "execution_count": 221,
   "metadata": {
    "collapsed": true
   },
   "outputs": [],
   "source": [
    "for i in range(1,count+1):\n",
    "    raw_urls.append(str(tree.xpath(\"//url[\"+str(i)+\"]/loc/text()\")).replace(\"['\",\"\").replace(\"']\",\"\"))"
   ]
  },
  {
   "cell_type": "code",
   "execution_count": 222,
   "metadata": {
    "collapsed": true
   },
   "outputs": [],
   "source": [
    "k = []\n",
    "v = []\n",
    "for i in range(1,count+1):\n",
    "    #l = str(tree.xpath(\"//url[\"+i+\"]/loc/text()\")).replace(\"['\",\"\").replace(\"']\",\"\").count(\"-\")\n",
    "    #str(tree.xpath(\"//url[2]/loc/text()\")).replace(\"['\",\"\").replace(\"']\",\"\").split(\"-\")[:l]\n",
    "    k.append(int(str(tree.xpath(\"//url[\"+str(i)+\"]/loc/text()\")).replace(\"['\",\"\").replace(\"']\",\"\").split(\"-\")[-1]))\n",
    "    v.append(str(tree.xpath(\"//url[\"+str(i)+\"]/loc/text()\")).replace(\"['\",\"\").replace(\"']\",\"\"))"
   ]
  },
  {
   "cell_type": "code",
   "execution_count": 223,
   "metadata": {
    "collapsed": true
   },
   "outputs": [],
   "source": [
    "dict_url = {k[i]:v[i] for i in range(count)}"
   ]
  },
  {
   "cell_type": "code",
   "execution_count": 224,
   "metadata": {
    "collapsed": true
   },
   "outputs": [],
   "source": [
    "#dict_url_pandas = pd.DataFrame.from_dict(dict_url, orient='index')\n",
    "dict_url_pandas = pd.DataFrame(list(dict_url.items()), columns=['news_id','news_url'])"
   ]
  },
  {
   "cell_type": "code",
   "execution_count": 225,
   "metadata": {},
   "outputs": [
    {
     "data": {
      "text/html": [
       "<div>\n",
       "<style scoped>\n",
       "    .dataframe tbody tr th:only-of-type {\n",
       "        vertical-align: middle;\n",
       "    }\n",
       "\n",
       "    .dataframe tbody tr th {\n",
       "        vertical-align: top;\n",
       "    }\n",
       "\n",
       "    .dataframe thead th {\n",
       "        text-align: right;\n",
       "    }\n",
       "</style>\n",
       "<table border=\"1\" class=\"dataframe\">\n",
       "  <thead>\n",
       "    <tr style=\"text-align: right;\">\n",
       "      <th></th>\n",
       "      <th>news_id</th>\n",
       "      <th>news_url</th>\n",
       "    </tr>\n",
       "  </thead>\n",
       "  <tbody>\n",
       "    <tr>\n",
       "      <th>0</th>\n",
       "      <td>1547638223811</td>\n",
       "      <td>https://inshorts.com/en/news/sad-criticises-co...</td>\n",
       "    </tr>\n",
       "    <tr>\n",
       "      <th>1</th>\n",
       "      <td>1547648052932</td>\n",
       "      <td>https://inshorts.com/en/news/pmled-panel-may-m...</td>\n",
       "    </tr>\n",
       "    <tr>\n",
       "      <th>2</th>\n",
       "      <td>1547650151681</td>\n",
       "      <td>https://inshorts.com/en/news/apple-spends-$150...</td>\n",
       "    </tr>\n",
       "    <tr>\n",
       "      <th>3</th>\n",
       "      <td>1547651408101</td>\n",
       "      <td>https://inshorts.com/en/news/mahindra-hikes-st...</td>\n",
       "    </tr>\n",
       "    <tr>\n",
       "      <th>4</th>\n",
       "      <td>1547714434446</td>\n",
       "      <td>https://inshorts.com/en/news/it-wasnt-against-...</td>\n",
       "    </tr>\n",
       "  </tbody>\n",
       "</table>\n",
       "</div>"
      ],
      "text/plain": [
       "         news_id                                           news_url\n",
       "0  1547638223811  https://inshorts.com/en/news/sad-criticises-co...\n",
       "1  1547648052932  https://inshorts.com/en/news/pmled-panel-may-m...\n",
       "2  1547650151681  https://inshorts.com/en/news/apple-spends-$150...\n",
       "3  1547651408101  https://inshorts.com/en/news/mahindra-hikes-st...\n",
       "4  1547714434446  https://inshorts.com/en/news/it-wasnt-against-..."
      ]
     },
     "execution_count": 225,
     "metadata": {},
     "output_type": "execute_result"
    }
   ],
   "source": [
    "dict_url_pandas.head()"
   ]
  },
  {
   "cell_type": "code",
   "execution_count": 226,
   "metadata": {},
   "outputs": [],
   "source": [
    "temp = pd.read_csv('inshorts_url.csv')\n",
    "news_url_set = set(temp['news_url'])"
   ]
  },
  {
   "cell_type": "code",
   "execution_count": 227,
   "metadata": {},
   "outputs": [],
   "source": [
    "dict_url_pandas_set = set(dict_url_pandas['news_url'])"
   ]
  },
  {
   "cell_type": "code",
   "execution_count": 228,
   "metadata": {},
   "outputs": [],
   "source": [
    "pd.DataFrame(list((dict_url_pandas_set | news_url_set)), columns=['news_url']).to_csv('inshorts_url.csv', index=False)"
   ]
  },
  {
   "cell_type": "code",
   "execution_count": 229,
   "metadata": {},
   "outputs": [
    {
     "data": {
      "text/plain": [
       "'https://inshorts.com/en/news/bjp-will-win-74-lok-sabha-seats-in-uttar-pradesh-jp-nadda-1547637538963'"
      ]
     },
     "execution_count": 229,
     "metadata": {},
     "output_type": "execute_result"
    }
   ],
   "source": [
    "temp.news_url[2001]"
   ]
  },
  {
   "cell_type": "code",
   "execution_count": 230,
   "metadata": {},
   "outputs": [
    {
     "data": {
      "text/plain": [
       "2002"
      ]
     },
     "execution_count": 230,
     "metadata": {},
     "output_type": "execute_result"
    }
   ],
   "source": [
    "len(temp)"
   ]
  },
  {
   "cell_type": "markdown",
   "metadata": {},
   "source": [
    "# Download News"
   ]
  },
  {
   "cell_type": "markdown",
   "metadata": {},
   "source": [
    "url = \"https://inshorts.com/en/news/death-toll-due-to-cyclone-gaja-rises-to-33-in-tamil-nadu-1542475432881\"\n",
    "data = requests.get(url)\n",
    "page = requests.get(url)\n",
    "tree = html.fromstring(page.content)"
   ]
  },
  {
   "cell_type": "markdown",
   "metadata": {},
   "source": [
    "def clean_xpath(xpath):\n",
    "    xpath = str(xpath).replace('[\"','').replace('\"]','')\n",
    "    xpath = str(xpath).replace(\"['\",\"\").replace(\"']\",\"\")\n",
    "    return xpath"
   ]
  },
  {
   "cell_type": "markdown",
   "metadata": {},
   "source": [
    "headline = clean_xpath(tree.xpath(\"//span[@itemprop='headline']/text()\"))"
   ]
  },
  {
   "cell_type": "markdown",
   "metadata": {},
   "source": [
    "author = clean_xpath(tree.xpath(\"//span[@class='author']/text()\")[1])"
   ]
  },
  {
   "cell_type": "markdown",
   "metadata": {},
   "source": [
    "time = clean_xpath(tree.xpath(\"//span[@class='time']/text()\")[1])"
   ]
  },
  {
   "cell_type": "markdown",
   "metadata": {},
   "source": [
    "date = clean_xpath(tree.xpath(\"/html/body/div[4]/div/div[3]/div/div/div[2]/div/span[3]/text()\"))\n",
    "date = \"-\".join(date.split(\",\")[0].split())"
   ]
  },
  {
   "cell_type": "markdown",
   "metadata": {},
   "source": [
    "body = clean_xpath(tree.xpath(\"/html/body/div[4]/div/div[3]/div/div/div[3]/div[1]/text()\"))"
   ]
  },
  {
   "cell_type": "markdown",
   "metadata": {},
   "source": [
    "news_from = clean_xpath(tree.xpath(\"/html/body/div[4]/div/div[3]/div/div/div[4]/div/a/text()\"))"
   ]
  },
  {
   "cell_type": "markdown",
   "metadata": {},
   "source": [
    "print(headline)\n",
    "print(author)\n",
    "print(time)\n",
    "print(date)\n",
    "print(body)\n",
    "print(news_from)"
   ]
  },
  {
   "cell_type": "code",
   "execution_count": 267,
   "metadata": {},
   "outputs": [],
   "source": [
    "def get_news(news_url):\n",
    "    data = requests.get(news_url)\n",
    "    page = requests.get(url)\n",
    "    tree = html.fromstring(page.content)\n",
    "    headline = clean_xpath(tree.xpath(\"//span[@itemprop='headline']/text()\"))\n",
    "    author = clean_xpath(tree.xpath(\"//span[@class='author']/text()\")[1])\n",
    "    time = clean_xpath(tree.xpath(\"//span[@class='time']/text()\")[1])\n",
    "    date = clean_xpath(tree.xpath(\"/html/body/div[4]/div/div[3]/div/div/div[2]/div/span[3]/text()\"))\n",
    "    date = \"-\".join(date.split(\",\")[0].split())\n",
    "    body = clean_xpath(tree.xpath(\"/html/body/div[4]/div/div[3]/div/div/div[3]/div[1]/text()\"))\n",
    "    news_from_source = clean_xpath(tree.xpath(\"/html/body/div[4]/div/div[3]/div/div/div[4]/div/a/text()\"))\n",
    "    news = (url,headline,body,author,time,date,news_from_source)\n",
    "    return news"
   ]
  },
  {
   "cell_type": "code",
   "execution_count": 276,
   "metadata": {},
   "outputs": [],
   "source": [
    "temp = pd.read_csv('inshorts_url.csv')"
   ]
  },
  {
   "cell_type": "code",
   "execution_count": 277,
   "metadata": {},
   "outputs": [
    {
     "ename": "IndexError",
     "evalue": "list index out of range",
     "output_type": "error",
     "traceback": [
      "\u001b[1;31m---------------------------------------------------------------------------\u001b[0m",
      "\u001b[1;31mIndexError\u001b[0m                                Traceback (most recent call last)",
      "\u001b[1;32m<ipython-input-277-a28c011239b3>\u001b[0m in \u001b[0;36m<module>\u001b[1;34m\u001b[0m\n\u001b[0;32m      1\u001b[0m \u001b[0ml\u001b[0m \u001b[1;33m=\u001b[0m \u001b[1;33m[\u001b[0m\u001b[1;33m]\u001b[0m\u001b[1;33m\u001b[0m\u001b[1;33m\u001b[0m\u001b[0m\n\u001b[0;32m      2\u001b[0m \u001b[1;32mfor\u001b[0m \u001b[0mi\u001b[0m \u001b[1;32min\u001b[0m \u001b[0mrange\u001b[0m\u001b[1;33m(\u001b[0m\u001b[0mlen\u001b[0m\u001b[1;33m(\u001b[0m\u001b[0mtemp\u001b[0m\u001b[1;33m)\u001b[0m\u001b[1;33m)\u001b[0m\u001b[1;33m:\u001b[0m\u001b[1;33m\u001b[0m\u001b[1;33m\u001b[0m\u001b[0m\n\u001b[1;32m----> 3\u001b[1;33m     \u001b[0ml\u001b[0m\u001b[1;33m.\u001b[0m\u001b[0mappend\u001b[0m\u001b[1;33m(\u001b[0m\u001b[0mget_news\u001b[0m\u001b[1;33m(\u001b[0m\u001b[0mtemp\u001b[0m\u001b[1;33m.\u001b[0m\u001b[0mnews_url\u001b[0m\u001b[1;33m.\u001b[0m\u001b[0miloc\u001b[0m\u001b[1;33m[\u001b[0m\u001b[0mi\u001b[0m\u001b[1;33m]\u001b[0m\u001b[1;33m)\u001b[0m\u001b[1;33m)\u001b[0m\u001b[1;33m\u001b[0m\u001b[1;33m\u001b[0m\u001b[0m\n\u001b[0m",
      "\u001b[1;32m<ipython-input-267-f685a7bf976b>\u001b[0m in \u001b[0;36mget_news\u001b[1;34m(news_url)\u001b[0m\n\u001b[0;32m      4\u001b[0m     \u001b[0mtree\u001b[0m \u001b[1;33m=\u001b[0m \u001b[0mhtml\u001b[0m\u001b[1;33m.\u001b[0m\u001b[0mfromstring\u001b[0m\u001b[1;33m(\u001b[0m\u001b[0mpage\u001b[0m\u001b[1;33m.\u001b[0m\u001b[0mcontent\u001b[0m\u001b[1;33m)\u001b[0m\u001b[1;33m\u001b[0m\u001b[1;33m\u001b[0m\u001b[0m\n\u001b[0;32m      5\u001b[0m     \u001b[0mheadline\u001b[0m \u001b[1;33m=\u001b[0m \u001b[0mclean_xpath\u001b[0m\u001b[1;33m(\u001b[0m\u001b[0mtree\u001b[0m\u001b[1;33m.\u001b[0m\u001b[0mxpath\u001b[0m\u001b[1;33m(\u001b[0m\u001b[1;34m\"//span[@itemprop='headline']/text()\"\u001b[0m\u001b[1;33m)\u001b[0m\u001b[1;33m)\u001b[0m\u001b[1;33m\u001b[0m\u001b[1;33m\u001b[0m\u001b[0m\n\u001b[1;32m----> 6\u001b[1;33m     \u001b[0mauthor\u001b[0m \u001b[1;33m=\u001b[0m \u001b[0mclean_xpath\u001b[0m\u001b[1;33m(\u001b[0m\u001b[0mtree\u001b[0m\u001b[1;33m.\u001b[0m\u001b[0mxpath\u001b[0m\u001b[1;33m(\u001b[0m\u001b[1;34m\"//span[@class='author']/text()\"\u001b[0m\u001b[1;33m)\u001b[0m\u001b[1;33m[\u001b[0m\u001b[1;36m1\u001b[0m\u001b[1;33m]\u001b[0m\u001b[1;33m)\u001b[0m\u001b[1;33m\u001b[0m\u001b[1;33m\u001b[0m\u001b[0m\n\u001b[0m\u001b[0;32m      7\u001b[0m     \u001b[0mtime\u001b[0m \u001b[1;33m=\u001b[0m \u001b[0mclean_xpath\u001b[0m\u001b[1;33m(\u001b[0m\u001b[0mtree\u001b[0m\u001b[1;33m.\u001b[0m\u001b[0mxpath\u001b[0m\u001b[1;33m(\u001b[0m\u001b[1;34m\"//span[@class='time']/text()\"\u001b[0m\u001b[1;33m)\u001b[0m\u001b[1;33m[\u001b[0m\u001b[1;36m1\u001b[0m\u001b[1;33m]\u001b[0m\u001b[1;33m)\u001b[0m\u001b[1;33m\u001b[0m\u001b[1;33m\u001b[0m\u001b[0m\n\u001b[0;32m      8\u001b[0m     \u001b[0mdate\u001b[0m \u001b[1;33m=\u001b[0m \u001b[0mclean_xpath\u001b[0m\u001b[1;33m(\u001b[0m\u001b[0mtree\u001b[0m\u001b[1;33m.\u001b[0m\u001b[0mxpath\u001b[0m\u001b[1;33m(\u001b[0m\u001b[1;34m\"/html/body/div[4]/div/div[3]/div/div/div[2]/div/span[3]/text()\"\u001b[0m\u001b[1;33m)\u001b[0m\u001b[1;33m)\u001b[0m\u001b[1;33m\u001b[0m\u001b[1;33m\u001b[0m\u001b[0m\n",
      "\u001b[1;31mIndexError\u001b[0m: list index out of range"
     ]
    }
   ],
   "source": [
    "l = []\n",
    "for i in range(len(temp)):\n",
    "    l.append(get_news(temp.news_url.iloc[i]))"
   ]
  },
  {
   "cell_type": "code",
   "execution_count": 275,
   "metadata": {},
   "outputs": [],
   "source": [
    "news_total = pd.DataFrame.from_records(l, columns=['url','headline','body','author','time','date','source'])\n",
    "news_total.to_csv('news_inshorts.csv', )"
   ]
  },
  {
   "cell_type": "code",
   "execution_count": null,
   "metadata": {},
   "outputs": [],
   "source": []
  }
 ],
 "metadata": {
  "kernelspec": {
   "display_name": "Python 3",
   "language": "python",
   "name": "python3"
  },
  "language_info": {
   "codemirror_mode": {
    "name": "ipython",
    "version": 3
   },
   "file_extension": ".py",
   "mimetype": "text/x-python",
   "name": "python",
   "nbconvert_exporter": "python",
   "pygments_lexer": "ipython3",
   "version": "3.7.1"
  }
 },
 "nbformat": 4,
 "nbformat_minor": 2
}
