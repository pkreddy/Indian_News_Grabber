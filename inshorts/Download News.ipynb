{
 "cells": [
  {
   "cell_type": "code",
   "execution_count": 1,
   "metadata": {},
   "outputs": [],
   "source": [
    "import pandas as pd\n",
    "import requests\n",
    "import pandas as pd\n",
    "from lxml import html\n",
    "from bs4 import BeautifulSoup\n",
    "import datetime\n",
    "import os"
   ]
  },
  {
   "cell_type": "code",
   "execution_count": 2,
   "metadata": {},
   "outputs": [],
   "source": [
    "def clean_xpath(xpath):\n",
    "    xpath = str(xpath).replace('[\"','').replace('\"]','')\n",
    "    xpath = str(xpath).replace(\"['\",\"\").replace(\"']\",\"\")\n",
    "    return xpath"
   ]
  },
  {
   "cell_type": "code",
   "execution_count": 3,
   "metadata": {},
   "outputs": [],
   "source": [
    "def proxy_list():\n",
    "    url = 'https://www.proxynova.com/proxy-server-list/country-in/'\n",
    "    page = requests.get(url)\n",
    "    tree = html.fromstring(page.content)\n",
    "    proxy_list = tree.xpath('//abbr')\n",
    "    proxy = []\n",
    "    for i in proxy_list:\n",
    "        p = i.get('title')\n",
    "        if len(p)<16:\n",
    "            proxy.append(p)\n",
    "    return proxy    "
   ]
  },
  {
   "cell_type": "code",
   "execution_count": 4,
   "metadata": {},
   "outputs": [],
   "source": [
    "def get_news(news_url, proxy):\n",
    "    page = requests.get(news_url, proxies=proxy)\n",
    "    tree = html.fromstring(page.content)\n",
    "    headline = clean_xpath(tree.xpath(\"/html/body/div[4]/div/div[3]/div/div/div[2]/a/span/text()\"))\n",
    "    author = clean_xpath(tree.xpath(\"/html/body/div[4]/div/div[3]/div/div/div[2]/div/span[1]/text()\"))\n",
    "    time = clean_xpath(tree.xpath(\"/html/body/div[4]/div/div[3]/div/div/div[2]/div/span[2]/text()\"))\n",
    "    date = clean_xpath(tree.xpath(\"/html/body/div[4]/div/div[3]/div/div/div[2]/div/span[3]/text()\"))\n",
    "    date = \"-\".join(date.split(\",\")[0].split())\n",
    "    body = clean_xpath(tree.xpath(\"/html/body/div[4]/div/div[3]/div/div/div[3]/div[1]/text()\"))\n",
    "    news_from_source = clean_xpath(tree.xpath(\"/html/body/div[4]/div/div[3]/div/div/div[4]/div/a/text()\"))\n",
    "    news = (news_url,headline,body,author,time,date,news_from_source)\n",
    "    return news"
   ]
  },
  {
   "cell_type": "code",
   "execution_count": 15,
   "metadata": {},
   "outputs": [
    {
     "data": {
      "text/html": [
       "<div>\n",
       "<style scoped>\n",
       "    .dataframe tbody tr th:only-of-type {\n",
       "        vertical-align: middle;\n",
       "    }\n",
       "\n",
       "    .dataframe tbody tr th {\n",
       "        vertical-align: top;\n",
       "    }\n",
       "\n",
       "    .dataframe thead th {\n",
       "        text-align: right;\n",
       "    }\n",
       "</style>\n",
       "<table border=\"1\" class=\"dataframe\">\n",
       "  <thead>\n",
       "    <tr style=\"text-align: right;\">\n",
       "      <th></th>\n",
       "      <th>news_url</th>\n",
       "    </tr>\n",
       "  </thead>\n",
       "  <tbody>\n",
       "    <tr>\n",
       "      <th>0</th>\n",
       "      <td>https://inshorts.com/en/news/michelle-obama-re...</td>\n",
       "    </tr>\n",
       "    <tr>\n",
       "      <th>1</th>\n",
       "      <td>https://inshorts.com/en/news/manager-dies-in-b...</td>\n",
       "    </tr>\n",
       "    <tr>\n",
       "      <th>2</th>\n",
       "      <td>https://inshorts.com/en/news/disha-copypastes-...</td>\n",
       "    </tr>\n",
       "    <tr>\n",
       "      <th>3</th>\n",
       "      <td>https://inshorts.com/en/news/indias-factory-ou...</td>\n",
       "    </tr>\n",
       "    <tr>\n",
       "      <th>4</th>\n",
       "      <td>https://inshorts.com/en/news/they-will-learn-e...</td>\n",
       "    </tr>\n",
       "  </tbody>\n",
       "</table>\n",
       "</div>"
      ],
      "text/plain": [
       "                                            news_url\n",
       "0  https://inshorts.com/en/news/michelle-obama-re...\n",
       "1  https://inshorts.com/en/news/manager-dies-in-b...\n",
       "2  https://inshorts.com/en/news/disha-copypastes-...\n",
       "3  https://inshorts.com/en/news/indias-factory-ou...\n",
       "4  https://inshorts.com/en/news/they-will-learn-e..."
      ]
     },
     "execution_count": 15,
     "metadata": {},
     "output_type": "execute_result"
    }
   ],
   "source": [
    "temp = pd.read_csv('inshorts_new_url.csv')\n",
    "temp.head()"
   ]
  },
  {
   "cell_type": "code",
   "execution_count": 6,
   "metadata": {},
   "outputs": [
    {
     "data": {
      "text/plain": [
       "'https://inshorts.com/en/news/disha-copypastes-wrong-text-in-paid-instagram-post-gets-trolled-1548311099073'"
      ]
     },
     "execution_count": 6,
     "metadata": {},
     "output_type": "execute_result"
    }
   ],
   "source": [
    "temp.news_url.iloc[2]"
   ]
  },
  {
   "cell_type": "code",
   "execution_count": 7,
   "metadata": {},
   "outputs": [],
   "source": [
    "l = []\n",
    "proxy = {\n",
    "    \"http\":\"http://45.64.11.1:8080\",\n",
    "    \"http\":\"http://125.62.213.161:83\",\n",
    "    \"http\":\"http://103.218.101.113:8080\",\n",
    "    \"http\":\"http://103.253.211.182:8080\",\n",
    "    \"http\":\"http://103.46.233.21:83\",\n",
    "    \"http\":\"http://103.46.233.27:82\",\n",
    "    \"http\":\"http://175.101.80.145:8080\",\n",
    "    \"http\":\"http://175.101.80.140:8080\",\n",
    "    \"http\":\"http://123.108.200.118:83\",\n",
    "    \"http\":\"http://103.26.56.30:8080\",\n",
    "    \"http\":\"http://103.226.3.233:8080\",\n",
    "    \"http\":\"http://103.41.99.130:8080\",\n",
    "    \"http\":\"http://103.224.48.17:8080\",\n",
    "    \"http\":\"http://103.209.64.19:6666\",\n",
    "    \"http\":\"http://103.14.235.26:8080\",\n",
    "}"
   ]
  },
  {
   "cell_type": "code",
   "execution_count": 9,
   "metadata": {},
   "outputs": [],
   "source": [
    "for i in range(len(temp)):\n",
    "    l.append(get_news(temp.news_url.iloc[i],proxy))"
   ]
  },
  {
   "cell_type": "code",
   "execution_count": 16,
   "metadata": {},
   "outputs": [],
   "source": [
    "news_total = pd.DataFrame.from_records(l, columns=['url','headline','body','author','time','date','source'])\n",
    "news_total.to_csv('news_inshorts.csv', index = False, mode = a)"
   ]
  },
  {
   "cell_type": "code",
   "execution_count": 17,
   "metadata": {},
   "outputs": [],
   "source": [
    "news_total = pd.read_csv('news_inshorts.csv')\n",
    "#news_total = news_total.drop(news_total.columns[[0]], axis=1)"
   ]
  },
  {
   "cell_type": "code",
   "execution_count": 18,
   "metadata": {},
   "outputs": [
    {
     "data": {
      "text/html": [
       "<div>\n",
       "<style scoped>\n",
       "    .dataframe tbody tr th:only-of-type {\n",
       "        vertical-align: middle;\n",
       "    }\n",
       "\n",
       "    .dataframe tbody tr th {\n",
       "        vertical-align: top;\n",
       "    }\n",
       "\n",
       "    .dataframe thead th {\n",
       "        text-align: right;\n",
       "    }\n",
       "</style>\n",
       "<table border=\"1\" class=\"dataframe\">\n",
       "  <thead>\n",
       "    <tr style=\"text-align: right;\">\n",
       "      <th></th>\n",
       "      <th>url</th>\n",
       "      <th>headline</th>\n",
       "      <th>body</th>\n",
       "      <th>author</th>\n",
       "      <th>time</th>\n",
       "      <th>date</th>\n",
       "      <th>source</th>\n",
       "    </tr>\n",
       "  </thead>\n",
       "  <tbody>\n",
       "    <tr>\n",
       "      <th>0</th>\n",
       "      <td>https://inshorts.com/en/news/michelle-obama-re...</td>\n",
       "      <td>Michelle Obama reveals she and Barack sought m...</td>\n",
       "      <td>Former US First Lady Michelle Obama has reveal...</td>\n",
       "      <td>Ankush Verma</td>\n",
       "      <td>09:43 am</td>\n",
       "      <td>13-Nov-2018</td>\n",
       "      <td>Daily Mail</td>\n",
       "    </tr>\n",
       "    <tr>\n",
       "      <th>1</th>\n",
       "      <td>https://inshorts.com/en/news/manager-dies-in-b...</td>\n",
       "      <td>Manager dies in burning car, police say he fai...</td>\n",
       "      <td>The charred body of a telecom company's 39-yea...</td>\n",
       "      <td>Pragya Swastik</td>\n",
       "      <td>11:13 am</td>\n",
       "      <td>19-Jan-2019</td>\n",
       "      <td>Hindustan Times</td>\n",
       "    </tr>\n",
       "    <tr>\n",
       "      <th>2</th>\n",
       "      <td>https://inshorts.com/en/news/disha-copypastes-...</td>\n",
       "      <td>Disha copy-pastes wrong text in paid Instagram...</td>\n",
       "      <td>Disha Patani was trolled on social media for a...</td>\n",
       "      <td>Daisy Mowke</td>\n",
       "      <td>11:54 am</td>\n",
       "      <td>24-Jan-2019</td>\n",
       "      <td>Hindustan Times</td>\n",
       "    </tr>\n",
       "    <tr>\n",
       "      <th>3</th>\n",
       "      <td>https://inshorts.com/en/news/indias-factory-ou...</td>\n",
       "      <td>India's factory output grows just 0.5% in Nove...</td>\n",
       "      <td>India's industrial output growth crashed to it...</td>\n",
       "      <td>Krishna Veera Vanamali</td>\n",
       "      <td>02:51 pm</td>\n",
       "      <td>12-Jan-2019</td>\n",
       "      <td>Livemint</td>\n",
       "    </tr>\n",
       "    <tr>\n",
       "      <th>4</th>\n",
       "      <td>https://inshorts.com/en/news/they-will-learn-e...</td>\n",
       "      <td>They will learn: Ex-umpire Simon Taufel on Pan...</td>\n",
       "      <td>Umpire Simon Taufel, who won five consecutive ...</td>\n",
       "      <td>Dishant Sharma</td>\n",
       "      <td>10:23 pm</td>\n",
       "      <td>14-Jan-2019</td>\n",
       "      <td>CricTracker</td>\n",
       "    </tr>\n",
       "  </tbody>\n",
       "</table>\n",
       "</div>"
      ],
      "text/plain": [
       "                                                 url  \\\n",
       "0  https://inshorts.com/en/news/michelle-obama-re...   \n",
       "1  https://inshorts.com/en/news/manager-dies-in-b...   \n",
       "2  https://inshorts.com/en/news/disha-copypastes-...   \n",
       "3  https://inshorts.com/en/news/indias-factory-ou...   \n",
       "4  https://inshorts.com/en/news/they-will-learn-e...   \n",
       "\n",
       "                                            headline  \\\n",
       "0  Michelle Obama reveals she and Barack sought m...   \n",
       "1  Manager dies in burning car, police say he fai...   \n",
       "2  Disha copy-pastes wrong text in paid Instagram...   \n",
       "3  India's factory output grows just 0.5% in Nove...   \n",
       "4  They will learn: Ex-umpire Simon Taufel on Pan...   \n",
       "\n",
       "                                                body                  author  \\\n",
       "0  Former US First Lady Michelle Obama has reveal...            Ankush Verma   \n",
       "1  The charred body of a telecom company's 39-yea...          Pragya Swastik   \n",
       "2  Disha Patani was trolled on social media for a...             Daisy Mowke   \n",
       "3  India's industrial output growth crashed to it...  Krishna Veera Vanamali   \n",
       "4  Umpire Simon Taufel, who won five consecutive ...          Dishant Sharma   \n",
       "\n",
       "       time         date           source  \n",
       "0  09:43 am  13-Nov-2018       Daily Mail  \n",
       "1  11:13 am  19-Jan-2019  Hindustan Times  \n",
       "2  11:54 am  24-Jan-2019  Hindustan Times  \n",
       "3  02:51 pm  12-Jan-2019         Livemint  \n",
       "4  10:23 pm  14-Jan-2019      CricTracker  "
      ]
     },
     "execution_count": 18,
     "metadata": {},
     "output_type": "execute_result"
    }
   ],
   "source": [
    "news_total.head()"
   ]
  },
  {
   "cell_type": "code",
   "execution_count": 4,
   "metadata": {},
   "outputs": [],
   "source": [
    "myfile = \"F:\\GitHub\\Indian_News_Grabber\\inshorts\\inshorts_new_url.csv\"\n",
    "if os.path.isfile(myfile):\n",
    "    os.remove(myfile)"
   ]
  },
  {
   "cell_type": "code",
   "execution_count": null,
   "metadata": {},
   "outputs": [],
   "source": []
  }
 ],
 "metadata": {
  "kernelspec": {
   "display_name": "Python 3",
   "language": "python",
   "name": "python3"
  },
  "language_info": {
   "codemirror_mode": {
    "name": "ipython",
    "version": 3
   },
   "file_extension": ".py",
   "mimetype": "text/x-python",
   "name": "python",
   "nbconvert_exporter": "python",
   "pygments_lexer": "ipython3",
   "version": "3.7.1"
  }
 },
 "nbformat": 4,
 "nbformat_minor": 2
}
